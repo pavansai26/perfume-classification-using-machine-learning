{
  "nbformat": 4,
  "nbformat_minor": 0,
  "metadata": {
    "colab": {
      "name": "Perfume classification.ipynb",
      "provenance": [],
      "private_outputs": true,
      "authorship_tag": "ABX9TyOE9/4jfkCM2eilS6h0JDX0",
      "include_colab_link": true
    },
    "kernelspec": {
      "name": "python3",
      "display_name": "Python 3"
    }
  },
  "cells": [
    {
      "cell_type": "markdown",
      "metadata": {
        "id": "view-in-github",
        "colab_type": "text"
      },
      "source": [
        "<a href=\"https://colab.research.google.com/github/pavansai26/perfume-classification-using-machine-learning/blob/main/Perfume_classification.ipynb\" target=\"_parent\"><img src=\"https://colab.research.google.com/assets/colab-badge.svg\" alt=\"Open In Colab\"/></a>"
      ]
    },
    {
      "cell_type": "markdown",
      "metadata": {
        "id": "NveDkJyXYPYy"
      },
      "source": [
        "# **PERFUME CLASSIFICATION**"
      ]
    },
    {
      "cell_type": "markdown",
      "metadata": {
        "id": "VuVUbyoEZbLO"
      },
      "source": [
        "# **problem statement**"
      ]
    },
    {
      "cell_type": "markdown",
      "metadata": {
        "id": "S6URkzCrY5e6"
      },
      "source": [
        "## classification of perfumes based upon the observation"
      ]
    },
    {
      "cell_type": "markdown",
      "metadata": {
        "id": "bSLQ2krJZnD5"
      },
      "source": [
        "# **Data Set Information:**"
      ]
    },
    {
      "cell_type": "markdown",
      "metadata": {
        "id": "uu90klFtZtwn"
      },
      "source": [
        "# The data set gathered when we were working at project for Bahrain university between 2002 and 2003."
      ]
    },
    {
      "cell_type": "markdown",
      "metadata": {
        "id": "fYggH_tRaEFk"
      },
      "source": [
        "# This data consists of odors of 20 different perfumes. Data was obtained by using a handheld odor meter (OMX-GR sensor) per second for 28 seconds period."
      ]
    },
    {
      "cell_type": "markdown",
      "metadata": {
        "id": "VTzVMLAuaoG4"
      },
      "source": [
        "# **Attribute Information**"
      ]
    },
    {
      "cell_type": "markdown",
      "metadata": {
        "id": "VL2aKwiMa3LW"
      },
      "source": [
        "# Names of these perfumes are: ajayeb, ajmal, amreaj, aood, asgar_ali, bukhoor, burberry, dehenalaod, junaid, kausar, rose, solidmusk, TeaTreeOil, raspberry, RoseMusk, strawberry, constrected2, carolina_herrera, oudh_ma'alattar, constrected1."
      ]
    },
    {
      "cell_type": "markdown",
      "metadata": {
        "id": "y83rhkYqbEBf"
      },
      "source": [
        "# **Classification Task**"
      ]
    },
    {
      "cell_type": "markdown",
      "metadata": {
        "id": "VnP3rH_IbKyG"
      },
      "source": [
        "# This notebook demonstrates how a machine learning model can determine the type of perfume based on the odometer reading."
      ]
    },
    {
      "cell_type": "markdown",
      "metadata": {
        "id": "vvtGwdj8bn_q"
      },
      "source": [
        "# **importing the necessary libraries**"
      ]
    },
    {
      "cell_type": "code",
      "metadata": {
        "id": "DQ3I1YadXZaZ"
      },
      "source": [
        "import numpy as np\n",
        "import pandas as pd\n",
        "import matplotlib.pyplot as plt\n",
        "import seaborn as sns\n",
        "\n",
        "from sklearn.preprocessing import LabelEncoder\n",
        "from sklearn.model_selection import train_test_split\n",
        "from sklearn.metrics import accuracy_score, confusion_matrix\n",
        "from sklearn.tree import DecisionTreeClassifier\n",
        "from sklearn.ensemble import RandomForestClassifier\n"
      ],
      "execution_count": null,
      "outputs": []
    },
    {
      "cell_type": "markdown",
      "metadata": {
        "id": "xCUverPmcvaO"
      },
      "source": [
        "# **ignoring the warnings**"
      ]
    },
    {
      "cell_type": "code",
      "metadata": {
        "id": "sUp3ZHRHcprv"
      },
      "source": [
        "import warnings\n",
        "warnings.filterwarnings('ignore',category = DeprecationWarning)\n",
        "warnings.filterwarnings('ignore',category = UserWarning)\n",
        "warnings.filterwarnings('ignore',category = RuntimeWarning)\n",
        "warnings.filterwarnings('ignore',category = FutureWarning)"
      ],
      "execution_count": null,
      "outputs": []
    },
    {
      "cell_type": "markdown",
      "metadata": {
        "id": "0wb66QjNdBM5"
      },
      "source": [
        "# **setting the no.of rows and columns**"
      ]
    },
    {
      "cell_type": "code",
      "metadata": {
        "id": "uwPo8DE-c8uU"
      },
      "source": [
        "pd.set_option('display.max_rows',100000)\n",
        "pd.set_option('display.max_columns',1000)"
      ],
      "execution_count": null,
      "outputs": []
    },
    {
      "cell_type": "markdown",
      "metadata": {
        "id": "UsqE-zf4dOm5"
      },
      "source": [
        "# **accesing the drive**"
      ]
    },
    {
      "cell_type": "code",
      "metadata": {
        "id": "xWrHNMtmdIRk"
      },
      "source": [
        "from google.colab import drive\n",
        "drive.mount('/gdrive')"
      ],
      "execution_count": null,
      "outputs": []
    },
    {
      "cell_type": "markdown",
      "metadata": {
        "id": "AnpHPKN5deOP"
      },
      "source": [
        "# **getting the data**"
      ]
    },
    {
      "cell_type": "code",
      "metadata": {
        "id": "neUpNVFzdUgL"
      },
      "source": [
        "data = pd.read_excel('/gdrive/My Drive/Colab Notebooks/perfume_data.xlsx', header=None)"
      ],
      "execution_count": null,
      "outputs": []
    },
    {
      "cell_type": "markdown",
      "metadata": {
        "id": "Y9NPrGHSfVb8"
      },
      "source": [
        "# **printing the data only top 5**"
      ]
    },
    {
      "cell_type": "code",
      "metadata": {
        "id": "CRSJIPvNfGcC"
      },
      "source": [
        "data.head()"
      ],
      "execution_count": null,
      "outputs": []
    },
    {
      "cell_type": "markdown",
      "metadata": {
        "id": "gS2IfUwcfvz9"
      },
      "source": [
        "# **finding the total no.of observations**"
      ]
    },
    {
      "cell_type": "code",
      "metadata": {
        "id": "Z4d7W7U9fbJn"
      },
      "source": [
        "len(data)"
      ],
      "execution_count": null,
      "outputs": []
    },
    {
      "cell_type": "markdown",
      "metadata": {
        "id": "I2qDFuvQf6vj"
      },
      "source": [
        "# total 20 observations are present in this dataset"
      ]
    },
    {
      "cell_type": "markdown",
      "metadata": {
        "id": "VTPoiyDZgLr7"
      },
      "source": [
        "# **finding the total no.of features**"
      ]
    },
    {
      "cell_type": "code",
      "metadata": {
        "id": "r3fanCvwf33g"
      },
      "source": [
        "len(data.columns)"
      ],
      "execution_count": null,
      "outputs": []
    },
    {
      "cell_type": "markdown",
      "metadata": {
        "id": "rtikgq5rgUPr"
      },
      "source": [
        "# total 29 features are present in this dataset"
      ]
    },
    {
      "cell_type": "code",
      "metadata": {
        "id": "NhJliJj6gJX-"
      },
      "source": [
        "data.shape"
      ],
      "execution_count": null,
      "outputs": []
    },
    {
      "cell_type": "markdown",
      "metadata": {
        "id": "ILoz6AfBjPYF"
      },
      "source": [
        "# **Renaming the '0' column to 'perfume'**"
      ]
    },
    {
      "cell_type": "code",
      "metadata": {
        "id": "a0LBdHARiVF7"
      },
      "source": [
        "data['perfume'] = data[0]\n",
        "data1 = data.drop(0, axis=1)"
      ],
      "execution_count": null,
      "outputs": []
    },
    {
      "cell_type": "code",
      "metadata": {
        "id": "hgPZAX98jYF5"
      },
      "source": [
        "data1"
      ],
      "execution_count": null,
      "outputs": []
    },
    {
      "cell_type": "code",
      "metadata": {
        "id": "AN-aKMJajhlv"
      },
      "source": [
        "perfumes = list(data.iloc[:,-1])"
      ],
      "execution_count": null,
      "outputs": []
    },
    {
      "cell_type": "markdown",
      "metadata": {
        "id": "YQQLEZ6pperD"
      },
      "source": [
        "# **names of perfumes presented in this dataset**"
      ]
    },
    {
      "cell_type": "code",
      "metadata": {
        "id": "qFC-7lCEpaDd"
      },
      "source": [
        "perfumes"
      ],
      "execution_count": null,
      "outputs": []
    },
    {
      "cell_type": "markdown",
      "metadata": {
        "id": "pIGs3tudp69r"
      },
      "source": [
        "# **DATA CLEANING**"
      ]
    },
    {
      "cell_type": "markdown",
      "metadata": {
        "id": "XyZgHBlEqAg7"
      },
      "source": [
        "# **CHECKING FOR NULL VALUES**"
      ]
    },
    {
      "cell_type": "code",
      "metadata": {
        "id": "QpxgZLiWpbcx"
      },
      "source": [
        "data1.isnull().sum()"
      ],
      "execution_count": null,
      "outputs": []
    },
    {
      "cell_type": "markdown",
      "metadata": {
        "id": "u5ZntJD-qNL8"
      },
      "source": [
        "# there are no null values in the data"
      ]
    },
    {
      "cell_type": "markdown",
      "metadata": {
        "id": "-I2E-CqZtMaS"
      },
      "source": [
        "# **information about the data**"
      ]
    },
    {
      "cell_type": "code",
      "metadata": {
        "id": "PFpWl-tmqIGG"
      },
      "source": [
        "data1.info()"
      ],
      "execution_count": null,
      "outputs": []
    },
    {
      "cell_type": "markdown",
      "metadata": {
        "id": "iai6Wi-GtmVn"
      },
      "source": [
        "# **As each row in the data frame consists of 28 Odometer measurement values and the corresponding name of the Perfume.**"
      ]
    },
    {
      "cell_type": "markdown",
      "metadata": {
        "id": "eMpM-VDYuJZG"
      },
      "source": [
        "# **This has to be converted into  which has each observation as a row and each attribute as column**"
      ]
    },
    {
      "cell_type": "markdown",
      "metadata": {
        "id": "tm86pO7yw6cA"
      },
      "source": [
        "# For this a new Dataframe is created and the values are appended correspondingly"
      ]
    },
    {
      "cell_type": "code",
      "metadata": {
        "id": "A9OLzeb9tE0U"
      },
      "source": [
        "df = pd.DataFrame([], columns= ['Observation', 'Perfume'])\n"
      ],
      "execution_count": null,
      "outputs": []
    },
    {
      "cell_type": "markdown",
      "metadata": {
        "id": "qlUIJyhjzXmj"
      },
      "source": [
        "# printing the df data frame"
      ]
    },
    {
      "cell_type": "code",
      "metadata": {
        "id": "WyCxCQSlzWGA"
      },
      "source": [
        "df"
      ],
      "execution_count": null,
      "outputs": []
    },
    {
      "cell_type": "markdown",
      "metadata": {
        "id": "-z-uvhM3831y"
      },
      "source": [
        "# **appending the observations to the perfumes which observation belongs to which perfume**"
      ]
    },
    {
      "cell_type": "code",
      "metadata": {
        "id": "ltOyW52rzdR3"
      },
      "source": [
        "observations = np.array([])\n",
        "labels = np.array([])\n",
        "\n",
        "for perfume in range(len(perfumes)):\n",
        "  for i in range(27):\n",
        "    obs, label = data1.iloc[perfume,i], data1.iloc[perfume,-1]\n",
        "    observations = np.append(observations, obs)\n",
        "    labels = np.append(labels, label)\n"
      ],
      "execution_count": null,
      "outputs": []
    },
    {
      "cell_type": "markdown",
      "metadata": {
        "id": "HPPgppGr9HCq"
      },
      "source": [
        "# **converting arrays to pandas series**"
      ]
    },
    {
      "cell_type": "code",
      "metadata": {
        "id": "pQKXTzzu2oAZ"
      },
      "source": [
        "observations = pd.Series(observations)\n",
        "labels = pd.Series(labels)"
      ],
      "execution_count": null,
      "outputs": []
    },
    {
      "cell_type": "markdown",
      "metadata": {
        "id": "fw6vfpKh9OXR"
      },
      "source": [
        "# **assigning the observations and labels to the observations and labels columns**"
      ]
    },
    {
      "cell_type": "code",
      "metadata": {
        "id": "T0wi_2ij8QuD"
      },
      "source": [
        "df.Observation = observations\n",
        "df.Perfume = labels"
      ],
      "execution_count": null,
      "outputs": []
    },
    {
      "cell_type": "markdown",
      "metadata": {
        "id": "ohNrEZwe9avc"
      },
      "source": [
        "# **printing pandas series df object**"
      ]
    },
    {
      "cell_type": "code",
      "metadata": {
        "id": "2axM61WZ8dIp"
      },
      "source": [
        "df"
      ],
      "execution_count": null,
      "outputs": []
    },
    {
      "cell_type": "markdown",
      "metadata": {
        "id": "UeUH3Y_P-BFU"
      },
      "source": [
        "# **converting the pandas series object into data frame object**"
      ]
    },
    {
      "cell_type": "code",
      "metadata": {
        "id": "iwKva-fY8eMb"
      },
      "source": [
        "df = pd.DataFrame(df)"
      ],
      "execution_count": null,
      "outputs": []
    },
    {
      "cell_type": "markdown",
      "metadata": {
        "id": "VqezCGRf-KWn"
      },
      "source": [
        "# **printing the pandas data frame**"
      ]
    },
    {
      "cell_type": "code",
      "metadata": {
        "id": "WfMzyFPt8mLi"
      },
      "source": [
        "df"
      ],
      "execution_count": null,
      "outputs": []
    },
    {
      "cell_type": "markdown",
      "metadata": {
        "id": "zKS29y6u-hBV"
      },
      "source": [
        "# **no.of observations in df**"
      ]
    },
    {
      "cell_type": "code",
      "metadata": {
        "id": "K9y1C98h8nL2"
      },
      "source": [
        "len(df)"
      ],
      "execution_count": null,
      "outputs": []
    },
    {
      "cell_type": "markdown",
      "metadata": {
        "id": "NtD--LvJ-maY"
      },
      "source": [
        "# **no.of features in df**"
      ]
    },
    {
      "cell_type": "code",
      "metadata": {
        "id": "Zq0R84sy-S1Q"
      },
      "source": [
        "len(df.columns)"
      ],
      "execution_count": null,
      "outputs": []
    },
    {
      "cell_type": "markdown",
      "metadata": {
        "id": "eBjRAJjq-5nt"
      },
      "source": [
        "# **top 5 observations**"
      ]
    },
    {
      "cell_type": "code",
      "metadata": {
        "id": "Ux93XU_i-wAv"
      },
      "source": [
        "df.head()"
      ],
      "execution_count": null,
      "outputs": []
    },
    {
      "cell_type": "markdown",
      "metadata": {
        "id": "m4wd7Sd9BAtf"
      },
      "source": [
        "# **information about the data**"
      ]
    },
    {
      "cell_type": "code",
      "metadata": {
        "id": "mzo6_Vu9-37p"
      },
      "source": [
        "df.info()"
      ],
      "execution_count": null,
      "outputs": []
    },
    {
      "cell_type": "markdown",
      "metadata": {
        "id": "Wx0opsaUoebO"
      },
      "source": [
        "# **shuffling the data set for avoid bias issues**"
      ]
    },
    {
      "cell_type": "code",
      "metadata": {
        "id": "J60S-4PcA5UJ"
      },
      "source": [
        "df = df.sample(frac= 1, random_state= 42).reset_index(drop = True)"
      ],
      "execution_count": null,
      "outputs": []
    },
    {
      "cell_type": "markdown",
      "metadata": {
        "id": "FD38q-SDotPR"
      },
      "source": [
        "# **top 5 observations after shuffling**"
      ]
    },
    {
      "cell_type": "code",
      "metadata": {
        "id": "drADtZh0olHr"
      },
      "source": [
        "df.head()"
      ],
      "execution_count": null,
      "outputs": []
    },
    {
      "cell_type": "code",
      "metadata": {
        "id": "PNBgvoVdoom_"
      },
      "source": [
        "pd.DataFrame(df.groupby('Perfume').describe()).T"
      ],
      "execution_count": null,
      "outputs": []
    },
    {
      "cell_type": "code",
      "metadata": {
        "id": "OvM1V3fzpGj0"
      },
      "source": [
        "df.groupby('Perfume').mean().plot(kind = 'bar', figsize=(15,8))\n",
        "plt.ylabel('mean of measurements')\n",
        "plt.show()"
      ],
      "execution_count": null,
      "outputs": []
    },
    {
      "cell_type": "code",
      "metadata": {
        "id": "0TI4lM1s4vNO"
      },
      "source": [
        "sns.displot(df.Observation)"
      ],
      "execution_count": null,
      "outputs": []
    },
    {
      "cell_type": "markdown",
      "metadata": {
        "id": "tzv7SvYWaHW7"
      },
      "source": [
        "# **Encoding the labels into numericals**"
      ]
    },
    {
      "cell_type": "code",
      "metadata": {
        "id": "Kop0hWaZ7AwT"
      },
      "source": [
        "le = LabelEncoder()\n",
        "df['Label'] = le.fit_transform(df['Perfume'])"
      ],
      "execution_count": null,
      "outputs": []
    },
    {
      "cell_type": "code",
      "metadata": {
        "id": "shUApI6-avr8"
      },
      "source": [
        "x = df['Observation'].to_numpy().reshape(-1,1)\n",
        "y = df['Label']"
      ],
      "execution_count": null,
      "outputs": []
    },
    {
      "cell_type": "markdown",
      "metadata": {
        "id": "3yMw3VK0b0Ws"
      },
      "source": [
        "# **Splitting into Training and Test sets**"
      ]
    },
    {
      "cell_type": "code",
      "metadata": {
        "id": "aoz3GNtKbsl4"
      },
      "source": [
        "x_train, x_test, y_train, y_test = train_test_split(x, y, test_size = 0.3)\n"
      ],
      "execution_count": null,
      "outputs": []
    },
    {
      "cell_type": "markdown",
      "metadata": {
        "id": "Nf9lNP3tdCW6"
      },
      "source": [
        "# **Building Model and making Predictions with decision tree**"
      ]
    },
    {
      "cell_type": "code",
      "metadata": {
        "id": "AlZ3N-8-b_T-"
      },
      "source": [
        "dtc = DecisionTreeClassifier()\n",
        "\n",
        "dtc.fit(x_train, y_train)\n",
        "\n",
        "y_pred = dtc.predict(x_test)"
      ],
      "execution_count": null,
      "outputs": []
    },
    {
      "cell_type": "code",
      "metadata": {
        "id": "Oksu-OUO1fic"
      },
      "source": [
        "print('Accuracy Score - ',  accuracy_score(y_test, y_pred))"
      ],
      "execution_count": null,
      "outputs": []
    },
    {
      "cell_type": "markdown",
      "metadata": {
        "id": "MUcIUImh2otg"
      },
      "source": [
        "# **Building Model and making Predictions with random forest**"
      ]
    },
    {
      "cell_type": "code",
      "metadata": {
        "id": "_tFI36rf3bI1"
      },
      "source": [
        "rf = RandomForestClassifier(n_estimators=200)\n",
        "\n",
        "rf.fit(x_train, y_train)\n",
        "\n",
        "y_pred = rf.predict(x_test)"
      ],
      "execution_count": null,
      "outputs": []
    },
    {
      "cell_type": "code",
      "metadata": {
        "id": "y4vAVjtq1ysZ"
      },
      "source": [
        "print('Accuracy Score - ',  accuracy_score(y_test, y_pred))"
      ],
      "execution_count": null,
      "outputs": []
    },
    {
      "cell_type": "code",
      "metadata": {
        "id": "YRAvRTJF22Xh"
      },
      "source": [
        ""
      ],
      "execution_count": null,
      "outputs": []
    }
  ]
}